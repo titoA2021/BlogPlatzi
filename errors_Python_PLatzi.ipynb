{
  "nbformat": 4,
  "nbformat_minor": 0,
  "metadata": {
    "colab": {
      "provenance": [],
      "authorship_tag": "ABX9TyP9nkGFR25dSx6nB9dCsn0f",
      "include_colab_link": true
    },
    "kernelspec": {
      "name": "python3",
      "display_name": "Python 3"
    },
    "language_info": {
      "name": "python"
    }
  },
  "cells": [
    {
      "cell_type": "markdown",
      "metadata": {
        "id": "view-in-github",
        "colab_type": "text"
      },
      "source": [
        "<a href=\"https://colab.research.google.com/github/titoA2021/BlogPlatzi/blob/main/errors_Python_PLatzi.ipynb\" target=\"_parent\"><img src=\"https://colab.research.google.com/assets/colab-badge.svg\" alt=\"Open In Colab\"/></a>"
      ]
    },
    {
      "cell_type": "code",
      "execution_count": 10,
      "metadata": {
        "colab": {
          "base_uri": "https://localhost:8080/"
        },
        "id": "nUELrZXp9O1j",
        "outputId": "67da2b66-21f5-4bee-bffe-e19a23570108"
      },
      "outputs": [
        {
          "output_type": "stream",
          "name": "stdout",
          "text": [
            "Hi\n",
            "Exception created\n"
          ]
        }
      ],
      "source": [
        "# print(0/0)\n",
        "#print(result)\n",
        "print('Hi')\n",
        "\n",
        "sum = lambda x,y:x+y \n",
        "assert sum(2,2) == 4\n",
        "\n",
        "try:\n",
        "  age = 10\n",
        "  if age < 18:\n",
        "    raise Exception('Exception created')\n",
        "except Exception as error:\n",
        "  print(error)\n"
      ]
    },
    {
      "cell_type": "code",
      "source": [
        "#Exception manage\n",
        "try:\n",
        "  print(0/0)\n",
        "  assert 1 != 1, 'one is not equal 1'\n",
        "  age = 10\n",
        "  if age < 18:\n",
        "    raise Exception('Exception created')\n",
        "except ZeroDivisionError as error:\n",
        "  print(error)\n",
        "except AssertionError as error:\n",
        "  print(error)\n",
        "except Exception as error:\n",
        "  print(error)\n",
        "\n",
        "print('Hola')\n",
        "\n"
      ],
      "metadata": {
        "colab": {
          "base_uri": "https://localhost:8080/"
        },
        "id": "2c5OxXJw-3hW",
        "outputId": "0cb6998f-7385-4ef5-d2b3-3fb4e63df949"
      },
      "execution_count": 11,
      "outputs": [
        {
          "output_type": "stream",
          "name": "stdout",
          "text": [
            "division by zero\n",
            "Hola\n"
          ]
        }
      ]
    },
    {
      "cell_type": "code",
      "source": [
        "def my_divide(a, b):\n",
        "   # Escribe tu solución 👇\n",
        "   try:\n",
        "      result = a / b\n",
        "   except ZeroDivisionError:\n",
        "     result = 'Can not divide by 0'\n",
        "   return result\n",
        "    \n",
        "response = my_divide(10, 2)\n",
        "print(response) # 5\n",
        "\n",
        "response = my_divide(10, 0)\n",
        "print(response)"
      ],
      "metadata": {
        "colab": {
          "base_uri": "https://localhost:8080/"
        },
        "id": "jHU1aZBwBZhC",
        "outputId": "0743a549-066c-40f1-8438-b6760e8a7e48"
      },
      "execution_count": 22,
      "outputs": [
        {
          "output_type": "stream",
          "name": "stdout",
          "text": [
            "5.0\n",
            "Can not divide by 0\n"
          ]
        }
      ]
    }
  ]
}