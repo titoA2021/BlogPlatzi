{
  "nbformat": 4,
  "nbformat_minor": 0,
  "metadata": {
    "colab": {
      "provenance": [],
      "authorship_tag": "ABX9TyOHIgB7GZuG0vGsuyLb8xFS",
      "include_colab_link": true
    },
    "kernelspec": {
      "name": "python3",
      "display_name": "Python 3"
    },
    "language_info": {
      "name": "python"
    }
  },
  "cells": [
    {
      "cell_type": "markdown",
      "metadata": {
        "id": "view-in-github",
        "colab_type": "text"
      },
      "source": [
        "<a href=\"https://colab.research.google.com/github/titoA2021/BlogPlatzi/blob/main/List_Comprehension_Platzi.ipynb\" target=\"_parent\"><img src=\"https://colab.research.google.com/assets/colab-badge.svg\" alt=\"Open In Colab\"/></a>"
      ]
    },
    {
      "cell_type": "code",
      "execution_count": null,
      "metadata": {
        "colab": {
          "base_uri": "https://localhost:8080/"
        },
        "id": "b4OkAvvrZpN4",
        "outputId": "0d606818-8523-4bef-c456-d62b08ca1408"
      },
      "outputs": [
        {
          "output_type": "stream",
          "name": "stdout",
          "text": [
            "Version1:  [2, 4, 6, 8, 10, 12, 14, 16, 18, 20]\n",
            "\n",
            "Version2:  [2, 4, 6, 8, 10, 12, 14, 16, 18, 20]\n"
          ]
        }
      ],
      "source": [
        "number = []\n",
        "for element in range(1,11):\n",
        "  number.append(element*2)\n",
        "print('Version1: ', number)\n",
        "\n",
        "number_v2 = [element*2 for element in range(1,11)]\n",
        "print('\\nVersion2: ', number_v2)"
      ]
    },
    {
      "cell_type": "code",
      "source": [
        "number = []\n",
        "for i in range(1,11):\n",
        "  if (i%2 == 0):\n",
        "    number.append(i*2)\n",
        "print('\\nVersion1: ', number)\n",
        "\n",
        "number_v2 = [i * 2 for i in range(1,11) if i%2 == 0]\n",
        "print('\\nVersion2: ', number_v2)\n",
        "  "
      ],
      "metadata": {
        "colab": {
          "base_uri": "https://localhost:8080/"
        },
        "id": "6vhnRsn-bA8E",
        "outputId": "69535848-a78e-4994-c9fb-6ed88f244282"
      },
      "execution_count": null,
      "outputs": [
        {
          "output_type": "stream",
          "name": "stdout",
          "text": [
            "\n",
            "Version1:  [4, 8, 12, 16, 20]\n",
            "\n",
            "Version2:  [4, 8, 12, 16, 20]\n"
          ]
        }
      ]
    },
    {
      "cell_type": "code",
      "source": [
        "# Dictionary Comprehension\n",
        "dicc = {}\n",
        "for i in range(1,5):\n",
        "  dicc[i] = i*2\n",
        "print('Version1: ', dicc)\n",
        "\n",
        "dicc_v2 = {i:i * 2 for i in range(1,5)}\n",
        "print('\\nVersion2: ', dicc_v2)"
      ],
      "metadata": {
        "colab": {
          "base_uri": "https://localhost:8080/"
        },
        "id": "VeiMIZlacSTT",
        "outputId": "b7a88a2d-8b7c-4868-963b-d22089157954"
      },
      "execution_count": null,
      "outputs": [
        {
          "output_type": "stream",
          "name": "stdout",
          "text": [
            "Version1:  {1: 2, 2: 4, 3: 6, 4: 8}\n",
            "\n",
            "Version2:  {1: 2, 2: 4, 3: 6, 4: 8}\n"
          ]
        }
      ]
    },
    {
      "cell_type": "code",
      "source": [
        "import random\n",
        "count = ['col', 'mex', 'rep']\n",
        "population = {}\n",
        "for country in count:\n",
        "  population[country] = random.randint(1,100)\n",
        "print('Version1: ', population)\n",
        "\n",
        "popul_v2 = {country: random.randint(1,100) for country in count}\n",
        "print('\\nVersion2: ', popul_v2)"
      ],
      "metadata": {
        "colab": {
          "base_uri": "https://localhost:8080/"
        },
        "id": "KbR0tQrid5YS",
        "outputId": "a3128a0d-1ddd-4977-e30e-6719f213f867"
      },
      "execution_count": null,
      "outputs": [
        {
          "output_type": "stream",
          "name": "stdout",
          "text": [
            "Version1:  {'col': 2, 'mex': 28, 'rep': 58}\n",
            "\n",
            "Version2:  {'col': 59, 'mex': 54, 'rep': 75}\n"
          ]
        }
      ]
    },
    {
      "cell_type": "code",
      "source": [
        "names = ['nico','zule','santi']\n",
        "ages = [12,56,98]\n",
        "\n",
        "print(list(zip(names,ages)))"
      ],
      "metadata": {
        "colab": {
          "base_uri": "https://localhost:8080/"
        },
        "id": "R6jR9sz3aMX1",
        "outputId": "a730c04c-c41f-46c3-920f-9fd02616bf08"
      },
      "execution_count": 1,
      "outputs": [
        {
          "output_type": "stream",
          "name": "stdout",
          "text": [
            "[('nico', 12), ('zule', 56), ('santi', 98)]\n"
          ]
        }
      ]
    },
    {
      "cell_type": "code",
      "source": [
        "new_dicc = {name: age for (name, age) in zip(names,ages)}\n",
        "print(new_dicc)"
      ],
      "metadata": {
        "colab": {
          "base_uri": "https://localhost:8080/"
        },
        "id": "QoqvG0Baaf3A",
        "outputId": "f01cdfc5-a934-412d-95b5-611f75974ebd"
      },
      "execution_count": 2,
      "outputs": [
        {
          "output_type": "stream",
          "name": "stdout",
          "text": [
            "{'nico': 12, 'zule': 56, 'santi': 98}\n"
          ]
        }
      ]
    },
    {
      "cell_type": "code",
      "source": [
        "import random\n",
        "count = ['col', 'mex', 'rep']\n",
        "popul_v2 = {country: random.randint(1,100) for country in count}\n",
        "print('Version2: ', popul_v2)\n",
        "\n",
        "#Paises mayores a 20\n",
        "result = {country: population for (country,population) in popul_v2.items() if (population > 20)}\n",
        "print(result)"
      ],
      "metadata": {
        "colab": {
          "base_uri": "https://localhost:8080/"
        },
        "id": "eqqHMuOka1bb",
        "outputId": "1b3f0fe5-7159-493e-fe73-8270904b6748"
      },
      "execution_count": 9,
      "outputs": [
        {
          "output_type": "stream",
          "name": "stdout",
          "text": [
            "Version2:  {'col': 97, 'mex': 57, 'rep': 11}\n",
            "{'col': 97, 'mex': 57}\n"
          ]
        }
      ]
    },
    {
      "cell_type": "code",
      "source": [
        "text = 'Hola, soy tito'\n",
        "unique = {c: c.upper() for c in text if c in 'aeiou'}\n",
        "print(unique)"
      ],
      "metadata": {
        "colab": {
          "base_uri": "https://localhost:8080/"
        },
        "id": "hr-Tq1cqbo-A",
        "outputId": "d8238ee0-1a57-48fc-fc44-f8a01ddfd434"
      },
      "execution_count": 10,
      "outputs": [
        {
          "output_type": "stream",
          "name": "stdout",
          "text": [
            "{'o': 'O', 'a': 'A', 'i': 'I'}\n"
          ]
        }
      ]
    },
    {
      "cell_type": "code",
      "source": [
        "numbers = [35, 16, 10, 34, 37, 25]\n",
        "\n",
        "even_numbers = []\n",
        "for number in numbers:\n",
        "  if number % 2 == 0:\n",
        "    even_numbers.append(number)\n",
        "print('v1 =>', even_numbers)\n",
        "\n",
        "# Ahora usando List Comprehension 👇\n",
        "even_numbers_v2 = [element for element in numbers if element%2 == 0]\n",
        "\n",
        "print('v2 =>', even_numbers_v2)"
      ],
      "metadata": {
        "colab": {
          "base_uri": "https://localhost:8080/"
        },
        "id": "EaA5Gg-ncrYx",
        "outputId": "a5b8cb85-5197-4400-8dfb-c92a3ef816b8"
      },
      "execution_count": 11,
      "outputs": [
        {
          "output_type": "stream",
          "name": "stdout",
          "text": [
            "v1 => [16, 10, 34]\n",
            "v2 => [16, 10, 34]\n"
          ]
        }
      ]
    },
    {
      "cell_type": "code",
      "source": [
        "\"\"\"\n",
        "  Diferencias entre una lista una tupla y un conjunto\n",
        "\n",
        "  Lista: \n",
        "  --> Mutable\n",
        "  --> Ordenada\n",
        "  --> index/Slicing\n",
        "  --> Duplicar elementos\n",
        "\n",
        "  Tupla:\n",
        "  --> NO se puede modificar\n",
        "  --> Ordenada\n",
        "  --> index/Slicing\n",
        "  --> Duplicar elementos\n",
        "\n",
        "  Conjuntos:\n",
        "  --> Mutable\n",
        "  --> NO ordenada\n",
        "  --> NO index/Slicing\n",
        "  --> NO Duplicar elementos\n",
        "  \n",
        "\"\"\""
      ],
      "metadata": {
        "id": "T2PJwIfRcGV0"
      },
      "execution_count": null,
      "outputs": []
    }
  ]
}