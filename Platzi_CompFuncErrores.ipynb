{
  "nbformat": 4,
  "nbformat_minor": 0,
  "metadata": {
    "colab": {
      "provenance": [],
      "toc_visible": true,
      "authorship_tag": "ABX9TyP5FRsti+Is0Yj2rjKhs1ZR",
      "include_colab_link": true
    },
    "kernelspec": {
      "name": "python3",
      "display_name": "Python 3"
    },
    "language_info": {
      "name": "python"
    }
  },
  "cells": [
    {
      "cell_type": "markdown",
      "metadata": {
        "id": "view-in-github",
        "colab_type": "text"
      },
      "source": [
        "<a href=\"https://colab.research.google.com/github/titoA2021/BlogPlatzi/blob/main/Platzi_CompFuncErrores.ipynb\" target=\"_parent\"><img src=\"https://colab.research.google.com/assets/colab-badge.svg\" alt=\"Open In Colab\"/></a>"
      ]
    },
    {
      "cell_type": "code",
      "execution_count": 1,
      "metadata": {
        "colab": {
          "base_uri": "https://localhost:8080/"
        },
        "id": "mePMdNS3LRHH",
        "outputId": "a37a1016-8998-4b20-8fcf-bdec415cf244"
      },
      "outputs": [
        {
          "output_type": "stream",
          "name": "stdout",
          "text": [
            "The Zen of Python, by Tim Peters\n",
            "\n",
            "Beautiful is better than ugly.\n",
            "Explicit is better than implicit.\n",
            "Simple is better than complex.\n",
            "Complex is better than complicated.\n",
            "Flat is better than nested.\n",
            "Sparse is better than dense.\n",
            "Readability counts.\n",
            "Special cases aren't special enough to break the rules.\n",
            "Although practicality beats purity.\n",
            "Errors should never pass silently.\n",
            "Unless explicitly silenced.\n",
            "In the face of ambiguity, refuse the temptation to guess.\n",
            "There should be one-- and preferably only one --obvious way to do it.\n",
            "Although that way may not be obvious at first unless you're Dutch.\n",
            "Now is better than never.\n",
            "Although never is often better than *right* now.\n",
            "If the implementation is hard to explain, it's a bad idea.\n",
            "If the implementation is easy to explain, it may be a good idea.\n",
            "Namespaces are one honking great idea -- let's do more of those!\n"
          ]
        }
      ],
      "source": [
        "import this"
      ]
    },
    {
      "cell_type": "code",
      "source": [
        "\"\"\"\n",
        "  Conjuntos(Set):\n",
        "\n",
        "  -->Se pueden modificar\n",
        "  -->No tienen un orden\n",
        "  -->No permiten duplicados\n",
        "\"\"\"\n",
        "set_countries = {'col','mex','bol'}\n",
        "print(set_countries)\n",
        "print(type(set_countries))\n",
        "\n",
        "set_types = {1,'w', False, 12.7}\n",
        "print(\"\\n\", set_types)\n",
        "\n",
        "set_from_string = set('hoollaa')\n",
        "print(\"\\n\" , set_from_string)"
      ],
      "metadata": {
        "colab": {
          "base_uri": "https://localhost:8080/"
        },
        "id": "uv2YT6evMEl9",
        "outputId": "0c24a0ab-819e-416e-f1a9-0c06198ea5a2"
      },
      "execution_count": 23,
      "outputs": [
        {
          "output_type": "stream",
          "name": "stdout",
          "text": [
            "{'mex', 'col', 'bol'}\n",
            "<class 'set'>\n",
            "\n",
            " {False, 1, 12.7, 'w'}\n",
            "\n",
            " {'h', 'o', 'l', 'a'}\n"
          ]
        }
      ]
    },
    {
      "cell_type": "code",
      "source": [
        "set_from_tuples = set(('abc','abcb','nbyc','abc'))\n",
        "print(set_from_tuples)"
      ],
      "metadata": {
        "colab": {
          "base_uri": "https://localhost:8080/"
        },
        "id": "cMCcnpbENpxc",
        "outputId": "f2d61a94-d278-4db5-d230-e05f95f7507a"
      },
      "execution_count": 9,
      "outputs": [
        {
          "output_type": "stream",
          "name": "stdout",
          "text": [
            "{'nbyc', 'abcb', 'abc'}\n"
          ]
        }
      ]
    },
    {
      "cell_type": "code",
      "source": [
        "#Encontrar los unicos en una lista!!\n",
        "numbers = [1,2,3,4,1,3,4,5]\n",
        "set_numbers = set(numbers)\n",
        "print(set_numbers)"
      ],
      "metadata": {
        "colab": {
          "base_uri": "https://localhost:8080/"
        },
        "id": "Y_Um0EaiOAlk",
        "outputId": "c7f3920c-9dee-4e4a-be45-446404e1dfe7"
      },
      "execution_count": 11,
      "outputs": [
        {
          "output_type": "stream",
          "name": "stdout",
          "text": [
            "{1, 2, 3, 4, 5}\n"
          ]
        }
      ]
    },
    {
      "cell_type": "code",
      "source": [
        "# Add\n",
        "print('col' in set_countries)\n",
        "set_countries.add('peru')\n",
        "print(set_countries)\n",
        "\n",
        "# Update\n",
        "set_countries.update({'ar','ecu','peru'})\n",
        "print('\\n',set_countries)"
      ],
      "metadata": {
        "colab": {
          "base_uri": "https://localhost:8080/"
        },
        "id": "1tTc3Cb8OllU",
        "outputId": "3a6f3ff3-8ec9-44d4-804c-f88516822e4a"
      },
      "execution_count": 24,
      "outputs": [
        {
          "output_type": "stream",
          "name": "stdout",
          "text": [
            "True\n",
            "{'mex', 'col', 'bol', 'peru'}\n",
            "\n",
            " {'ar', 'col', 'bol', 'mex', 'peru', 'ecu'}\n"
          ]
        }
      ]
    },
    {
      "cell_type": "code",
      "source": [
        "# Remove\n",
        "set_countries.remove('col')\n",
        "print(set_countries)\n",
        "\n",
        "# Discard\n",
        "set_countries.discard('arge')\n",
        "print('\\n', set_countries)\n",
        "\n",
        "# Clear\n",
        "set_countries.clear()\n",
        "print('\\n', set_countries)\n"
      ],
      "metadata": {
        "colab": {
          "base_uri": "https://localhost:8080/"
        },
        "id": "LDyxo4ieSiKu",
        "outputId": "83c5a87b-a6e0-40b3-c2cc-585718cecd0b"
      },
      "execution_count": 25,
      "outputs": [
        {
          "output_type": "stream",
          "name": "stdout",
          "text": [
            "{'ar', 'bol', 'mex', 'peru', 'ecu'}\n",
            "\n",
            " {'ar', 'bol', 'mex', 'peru', 'ecu'}\n",
            "set()\n"
          ]
        }
      ]
    },
    {
      "cell_type": "code",
      "source": [
        "# Operaciones con conjuntos\n",
        "# Union\n",
        "set_a = {'col','mex','bol'}\n",
        "set_b = {'pe','bol'}\n",
        "set_c = set_a.union(set_b)\n",
        "print('set_a: ', set_a)\n",
        "print('set_b: ', set_b)\n",
        "print('\\nUnion: ', set_c)\n",
        "print('Union_Oper: ', set_a | set_b)\n",
        "\n",
        "# Intersección\n",
        "set_d = set_a.intersection(set_b)\n",
        "print('\\nInterseccion: ', set_d)\n",
        "print('Inters_Oper: ', set_a & set_b)\n",
        "\n",
        "# Diferencia\n",
        "set_e = set_a.difference(set_b)\n",
        "print('\\nDiferencia: ', set_e)\n",
        "print('Dife_Oper: ', set_a - set_b)\n",
        "\n",
        "# Diferencia simetrica: union sin elementos que coinciden en comun \n",
        "set_f = set_a.symmetric_difference(set_b)\n",
        "print('\\nDifer_Simetrica: ', set_f)\n",
        "print('Dif_Sim_Oper: ', set_a ^ set_b)\n"
      ],
      "metadata": {
        "colab": {
          "base_uri": "https://localhost:8080/"
        },
        "id": "FnbrXgguTcQd",
        "outputId": "7469d046-29d0-406f-ce96-d608f1ff47f0"
      },
      "execution_count": 29,
      "outputs": [
        {
          "output_type": "stream",
          "name": "stdout",
          "text": [
            "set_a:  {'mex', 'col', 'bol'}\n",
            "set_b:  {'pe', 'bol'}\n",
            "\n",
            "Union:  {'pe', 'col', 'bol', 'mex'}\n",
            "Union_Oper:  {'pe', 'col', 'bol', 'mex'}\n",
            "\n",
            "Interseccion:  {'bol'}\n",
            "Inters_Oper:  {'bol'}\n",
            "\n",
            "Diferencia:  {'mex', 'col'}\n",
            "Dife_Oper:  {'mex', 'col'}\n",
            "\n",
            "Difer_Simetrica:  {'pe', 'col', 'mex'}\n",
            "Dif_Sim_Oper:  {'pe', 'col', 'mex'}\n"
          ]
        }
      ]
    },
    {
      "cell_type": "code",
      "source": [],
      "metadata": {
        "id": "zlHb5DppZDHb"
      },
      "execution_count": null,
      "outputs": []
    }
  ]
}