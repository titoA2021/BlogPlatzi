{
  "nbformat": 4,
  "nbformat_minor": 0,
  "metadata": {
    "colab": {
      "provenance": [],
      "authorship_tag": "ABX9TyOAu/ClaJHETe2puMSzsb1p",
      "include_colab_link": true
    },
    "kernelspec": {
      "name": "python3",
      "display_name": "Python 3"
    },
    "language_info": {
      "name": "python"
    }
  },
  "cells": [
    {
      "cell_type": "markdown",
      "metadata": {
        "id": "view-in-github",
        "colab_type": "text"
      },
      "source": [
        "<a href=\"https://colab.research.google.com/github/titoA2021/BlogPlatzi/blob/main/Functions_Platzi.ipynb\" target=\"_parent\"><img src=\"https://colab.research.google.com/assets/colab-badge.svg\" alt=\"Open In Colab\"/></a>"
      ]
    },
    {
      "cell_type": "code",
      "source": [
        "def find_volume(length=1, widht=1, depth=1):\n",
        "  return length*widht*depth, widht, 'hola'\n",
        "\n",
        "result, widht, string = find_volume(widht=10)\n",
        "print(result,widht,string)"
      ],
      "metadata": {
        "colab": {
          "base_uri": "https://localhost:8080/"
        },
        "id": "8E8KK36peMsx",
        "outputId": "48c1e8b6-3bfb-4e1f-906c-dd351b64f42d"
      },
      "execution_count": 7,
      "outputs": [
        {
          "output_type": "stream",
          "name": "stdout",
          "text": [
            "10 10 hola\n"
          ]
        }
      ]
    },
    {
      "cell_type": "code",
      "source": [
        "\"\"\"\n",
        "  El scope(alcance)\n",
        "\"\"\""
      ],
      "metadata": {
        "id": "wTTsoVa6hGzU"
      },
      "execution_count": null,
      "outputs": []
    },
    {
      "cell_type": "code",
      "source": [
        "price = 100 #Global\n",
        "\n",
        "def incre():\n",
        "  price = 200 #Local\n",
        "  result = price + 10;\n",
        "  print(result)\n",
        "\n",
        "print(price)\n",
        "incre()\n"
      ],
      "metadata": {
        "colab": {
          "base_uri": "https://localhost:8080/"
        },
        "id": "234tCjHchS_E",
        "outputId": "394f60ac-9254-4073-9707-48fa5603fa62"
      },
      "execution_count": 10,
      "outputs": [
        {
          "output_type": "stream",
          "name": "stdout",
          "text": [
            "100\n",
            "210\n"
          ]
        }
      ]
    },
    {
      "cell_type": "code",
      "source": [
        "\"\"\"\n",
        "Refactor Game\n",
        "\"\"\""
      ],
      "metadata": {
        "id": "aglDi3wgiayw"
      },
      "execution_count": null,
      "outputs": []
    },
    {
      "cell_type": "code",
      "source": [
        "import random\n",
        "\n",
        "def choose_option():\n",
        "    options = ('piedra', 'papel', 'tijera')\n",
        "    user_option = input('piedra, papel o tijera => ')\n",
        "    user_option = user_option.lower()\n",
        "\n",
        "    if not user_option in options:\n",
        "      print('esa opcion no es valida')\n",
        "      #continue\n",
        "      return None, None\n",
        "\n",
        "    computer_option = random.choice(options)\n",
        "\n",
        "    print('User option =>', user_option)\n",
        "    print('Computer option =>', computer_option)\n",
        "    return user_option, computer_option\n",
        "\n",
        "def check_rules(user_option, computer_option, user_wins, computer_wins):\n",
        "  if user_option == computer_option:\n",
        "      print('Empate!')\n",
        "  elif user_option == 'piedra':\n",
        "    if computer_option == 'tijera':\n",
        "        print('piedra gana a tijera')\n",
        "        print('user gano!')\n",
        "        user_wins += 1\n",
        "    else:\n",
        "        print('Papel gana a piedra')\n",
        "        print('computer gano!')\n",
        "        computer_wins += 1\n",
        "  elif user_option == 'papel':\n",
        "    if computer_option == 'piedra':\n",
        "        print('papel gana a piedra')\n",
        "        print('user gano')\n",
        "        user_wins += 1\n",
        "    else:\n",
        "        print('tijera gana a papel')\n",
        "        print('computer gano!')\n",
        "        computer_wins += 1\n",
        "  elif user_option == 'tijera':\n",
        "    if computer_option == 'papel':\n",
        "        print('tijera gana a papel')\n",
        "        print('user gano!')\n",
        "        user_wins += 1\n",
        "    else:\n",
        "        print('piedra gana a tijera')\n",
        "        print('computer gano!')\n",
        "        computer_wins += 1\n",
        "  return user_wins, computer_wins\n",
        "\n",
        "def final(user_wins, computer_wins):\n",
        "  flag = True\n",
        "  if computer_wins == 2:\n",
        "    print('El ganador es la computadora')\n",
        "    flag = False\n",
        "  if user_wins == 2:\n",
        "    print('El ganador es el usuario')\n",
        "    flag = False\n",
        "  return flag\n",
        "\n",
        "  \n",
        "\n",
        "def run_game():\n",
        "  computer_wins = 0\n",
        "  user_wins = 0\n",
        "  rounds = 1\n",
        "  flag = True\n",
        "  while flag:\n",
        "    print('*' * 10)\n",
        "    print('ROUND', rounds)\n",
        "    print('*' * 10)\n",
        "\n",
        "    print('computer_wins', computer_wins)\n",
        "    print('user_wins', user_wins)\n",
        "\n",
        "    rounds += 1\n",
        "\n",
        "    user_option, computer_option = choose_option()\n",
        "\n",
        "    user_wins, computer_wins = check_rules(user_option, computer_option, user_wins, computer_wins)\n",
        "    \n",
        "    flag = final(user_wins, computer_wins)\n",
        "\n",
        "run_game()\n"
      ],
      "metadata": {
        "colab": {
          "base_uri": "https://localhost:8080/"
        },
        "id": "I1GnRVOSihcq",
        "outputId": "c7409b2a-2593-4892-8591-34c251ba770e"
      },
      "execution_count": 20,
      "outputs": [
        {
          "output_type": "stream",
          "name": "stdout",
          "text": [
            "**********\n",
            "ROUND 1\n",
            "**********\n",
            "computer_wins 0\n",
            "user_wins 0\n",
            "piedra, papel o tijera => papel\n",
            "User option => papel\n",
            "Computer option => piedra\n",
            "papel gana a piedra\n",
            "user gano\n",
            "**********\n",
            "ROUND 2\n",
            "**********\n",
            "computer_wins 0\n",
            "user_wins 1\n",
            "piedra, papel o tijera => tijera\n",
            "User option => tijera\n",
            "Computer option => piedra\n",
            "piedra gana a tijera\n",
            "computer gano!\n",
            "**********\n",
            "ROUND 3\n",
            "**********\n",
            "computer_wins 1\n",
            "user_wins 1\n",
            "piedra, papel o tijera => papel\n",
            "User option => papel\n",
            "Computer option => tijera\n",
            "tijera gana a papel\n",
            "computer gano!\n",
            "El ganador es la computadora\n"
          ]
        }
      ]
    },
    {
      "cell_type": "code",
      "source": [
        "def message_creator(text):\n",
        "  if(text.lower() == 'computadora'):\n",
        "    result = 'Con mi computadora puedo programar usando Python'\n",
        "  elif(text.lower() == 'celu'):\n",
        "    result = 'En mi celular puedo aprender usando la app de Platzi'\n",
        "  elif(text.lower() == 'cable'):\n",
        "    result = '¡Hay un cable en mi bota!'\n",
        "  else:\n",
        "    result = 'Artículo no encontrado'\n",
        "  return result\n",
        "\n",
        "text = 'celu'\n",
        "response = message_creator(text)\n",
        "print(response)"
      ],
      "metadata": {
        "colab": {
          "base_uri": "https://localhost:8080/"
        },
        "id": "xTwoCvxNixjR",
        "outputId": "08c1ac6b-0075-4e24-bcf9-f507a66ac3b8"
      },
      "execution_count": 36,
      "outputs": [
        {
          "output_type": "stream",
          "name": "stdout",
          "text": [
            "En mi celular puedo aprender usando la app de Platzi\n"
          ]
        }
      ]
    },
    {
      "cell_type": "code",
      "source": [
        "#Lambdas\n",
        "def incremento(x):\n",
        "  return x+1\n",
        "\n",
        "incre_2 =  lambda x : x + 1 \n",
        "\n",
        "full_name = lambda name,last_name: f'Full name is: {name.title()} {last_name.title()}'\n",
        "text = full_name('tito', 'Zapata')\n",
        "print(text)"
      ],
      "metadata": {
        "colab": {
          "base_uri": "https://localhost:8080/"
        },
        "id": "LGkDWYwt1cr-",
        "outputId": "27fd7698-d99c-4a0e-8d7b-4d85cfdb9211"
      },
      "execution_count": 38,
      "outputs": [
        {
          "output_type": "stream",
          "name": "stdout",
          "text": [
            "Full name is: Tito Zapata\n"
          ]
        }
      ]
    },
    {
      "cell_type": "code",
      "source": [
        "#High Order Function (HOF)\n",
        "def increment(x):\n",
        "  return x + 1\n",
        "\n",
        "def high_order_function(x, func):\n",
        "  return x + func(x)\n",
        "\n",
        "result = high_order_function(2, increment)\n",
        "print(result)"
      ],
      "metadata": {
        "colab": {
          "base_uri": "https://localhost:8080/"
        },
        "id": "AJNrgo4RVJcH",
        "outputId": "feaa1258-c6b3-4a8b-93ce-44f5a4fa7d3b"
      },
      "execution_count": 4,
      "outputs": [
        {
          "output_type": "stream",
          "name": "stdout",
          "text": [
            "5\n"
          ]
        }
      ]
    },
    {
      "cell_type": "code",
      "source": [
        "#High Order Function (HOF)\n",
        "increment_v2 = lambda x : x+1\n",
        "\n",
        "def high_order_function(x, func):\n",
        "  return x + func(x)\n",
        "\n",
        "result = high_order_function(2, increment_v2)\n",
        "print('1: ', result)\n",
        "result = high_order_function(2, lambda x : x+1)\n",
        "print('\\n2: ', result)"
      ],
      "metadata": {
        "colab": {
          "base_uri": "https://localhost:8080/"
        },
        "id": "9fnrZavelNRq",
        "outputId": "60aa7cc4-ae24-4a7f-e6e3-317ded172bb0"
      },
      "execution_count": 5,
      "outputs": [
        {
          "output_type": "stream",
          "name": "stdout",
          "text": [
            "1:  5\n",
            "\n",
            "2:  5\n"
          ]
        }
      ]
    },
    {
      "cell_type": "code",
      "source": [
        "# MAP --> transformaciones a una lista de elementos\n",
        "number = [1,2,3,4]\n",
        "number_v2 = []\n",
        "\n",
        "for i in number:\n",
        "  number_v2.append(i*2)\n",
        "\n",
        "number_v3 = list(map(lambda i : i * 2, number))\n",
        "\n",
        "print('1: ', number)\n",
        "print('2: ', number_v2)\n",
        "print('3: ', number_v3)"
      ],
      "metadata": {
        "colab": {
          "base_uri": "https://localhost:8080/"
        },
        "id": "8-tR6b2dmNpS",
        "outputId": "e8cfdb8d-1fb6-4ad0-c41a-4a80df6fb3f5"
      },
      "execution_count": 10,
      "outputs": [
        {
          "output_type": "stream",
          "name": "stdout",
          "text": [
            "1:  [1, 2, 3, 4]\n",
            "2:  [2, 4, 6, 8]\n",
            "3:  [2, 4, 6, 8]\n"
          ]
        }
      ]
    },
    {
      "cell_type": "code",
      "source": [
        "n1 = [1,2,3,4]\n",
        "n2 = [5,6,7]\n",
        "result = list(map(lambda x, y : x + y, n1, n2))\n",
        "print(result)"
      ],
      "metadata": {
        "colab": {
          "base_uri": "https://localhost:8080/"
        },
        "id": "N2CtD4MGnPB9",
        "outputId": "b4c6bdcd-fc2e-44cb-c16c-5e8f9103f0f6"
      },
      "execution_count": 11,
      "outputs": [
        {
          "output_type": "stream",
          "name": "stdout",
          "text": [
            "[6, 8, 10]\n"
          ]
        }
      ]
    },
    {
      "cell_type": "code",
      "source": [
        "# MAP con diccionarios\n",
        "items = [\n",
        "    {\n",
        "        'product': 'camisa',\n",
        "        'price': 100\n",
        "    },\n",
        "    {\n",
        "        'product': 'pantalones',\n",
        "        'price': 300\n",
        "    },\n",
        "    {\n",
        "        'product': 'pantalones 2',\n",
        "        'price': 200\n",
        "    }\n",
        "]\n",
        "\n",
        "prices = list(map(lambda x : x['price'], items))\n",
        "print(prices)\n",
        "\n",
        "def add_taxes(item):\n",
        "  item['taxes'] = item['price']*0.19\n",
        "  return item\n",
        "\n",
        "taxes =  list(map(add_taxes, items))\n",
        "print(taxes)\n",
        "print(items)"
      ],
      "metadata": {
        "colab": {
          "base_uri": "https://localhost:8080/"
        },
        "id": "0zYgPr-WnqVa",
        "outputId": "1ba2c75e-f9dd-4f6c-9a35-75ba3b3d547b"
      },
      "execution_count": 14,
      "outputs": [
        {
          "output_type": "stream",
          "name": "stdout",
          "text": [
            "[100, 300, 200]\n",
            "[{'product': 'camisa', 'price': 100, 'taxes': 19.0}, {'product': 'pantalones', 'price': 300, 'taxes': 57.0}, {'product': 'pantalones 2', 'price': 200, 'taxes': 38.0}]\n",
            "[{'product': 'camisa', 'price': 100, 'taxes': 19.0}, {'product': 'pantalones', 'price': 300, 'taxes': 57.0}, {'product': 'pantalones 2', 'price': 200, 'taxes': 38.0}]\n"
          ]
        }
      ]
    },
    {
      "cell_type": "code",
      "source": [
        "#Map sin modificar el array original\n",
        "items = [\n",
        "    {\n",
        "        'product': 'camisa',\n",
        "        'price': 100\n",
        "    },\n",
        "    {\n",
        "        'product': 'pantalones',\n",
        "        'price': 300\n",
        "    },\n",
        "    {\n",
        "        'product': 'pantalones 2',\n",
        "        'price': 200\n",
        "    }\n",
        "]\n",
        "\n",
        "prices = list(map(lambda x : x['price'], items))\n",
        "print(prices)\n",
        "\n",
        "def add_taxes(item):\n",
        "  new_item = item.copy()\n",
        "  new_item['taxes'] = new_item['price']*0.19\n",
        "  return new_item\n",
        "\n",
        "taxes =  list(map(add_taxes, items))\n",
        "print('New: ', taxes)\n",
        "print('Old: ', items)"
      ],
      "metadata": {
        "colab": {
          "base_uri": "https://localhost:8080/"
        },
        "id": "dYyytOtt2iKK",
        "outputId": "3e9c1ab7-e6a1-43bd-883b-7766d627eb31"
      },
      "execution_count": 15,
      "outputs": [
        {
          "output_type": "stream",
          "name": "stdout",
          "text": [
            "[100, 300, 200]\n",
            "New:  [{'product': 'camisa', 'price': 100, 'taxes': 19.0}, {'product': 'pantalones', 'price': 300, 'taxes': 57.0}, {'product': 'pantalones 2', 'price': 200, 'taxes': 38.0}]\n",
            "Old:  [{'product': 'camisa', 'price': 100}, {'product': 'pantalones', 'price': 300}, {'product': 'pantalones 2', 'price': 200}]\n"
          ]
        }
      ]
    },
    {
      "cell_type": "code",
      "source": [
        "def multiply_numbers(numbers):\n",
        "    # Escribe tu solución 👇\n",
        "    new_list = list(map(lambda i : i*2,numbers))\n",
        "    return new_list\n",
        "\n",
        "numbers = [1, 2, 3, 4]\n",
        "response = multiply_numbers(numbers)\n",
        "print(response)"
      ],
      "metadata": {
        "colab": {
          "base_uri": "https://localhost:8080/"
        },
        "id": "nD0QyHS73vF0",
        "outputId": "824965cb-86b7-4912-ffef-25f4267efc44"
      },
      "execution_count": 16,
      "outputs": [
        {
          "output_type": "stream",
          "name": "stdout",
          "text": [
            "[2, 4, 6, 8]\n"
          ]
        }
      ]
    },
    {
      "cell_type": "code",
      "source": [
        "#Filter\n",
        "number = [1,2,3,4,5]\n",
        "new_n = list(filter(lambda x:x%2==0, number))\n",
        "print(new_n)"
      ],
      "metadata": {
        "colab": {
          "base_uri": "https://localhost:8080/"
        },
        "id": "_uIaFsc64cSJ",
        "outputId": "e40d1537-380d-4435-ce33-d0786f2c2a22"
      },
      "execution_count": 18,
      "outputs": [
        {
          "output_type": "stream",
          "name": "stdout",
          "text": [
            "[2, 4]\n"
          ]
        }
      ]
    },
    {
      "cell_type": "code",
      "source": [
        "#Filter Dict\n",
        "matches = [\n",
        "  {\n",
        "    'home_team': 'Bolivia',\n",
        "    'away_team': 'Uruguay',\n",
        "    'home_team_score': 3,\n",
        "    'away_team_score': 1,\n",
        "    'home_team_result': 'Win'\n",
        "  },\n",
        "  {\n",
        "    'home_team': 'Brazil',\n",
        "    'away_team': 'Mexico',\n",
        "    'home_team_score': 1,\n",
        "    'away_team_score': 1,\n",
        "    'home_team_result': 'Draw'\n",
        "  },\n",
        "  {\n",
        "    'home_team': 'Ecuador',\n",
        "    'away_team': 'Venezuela',\n",
        "    'home_team_score': 5,\n",
        "    'away_team_score': 0,\n",
        "    'home_team_result': 'Win'\n",
        "  },\n",
        "]\n",
        "\n",
        "print(matches)\n",
        "print(len(matches))\n",
        "\n",
        "new_list = list(filter(lambda i : i['home_team_result'] == 'Win', matches))\n",
        "print(new_list)\n",
        "print(len(new_list))"
      ],
      "metadata": {
        "colab": {
          "base_uri": "https://localhost:8080/"
        },
        "id": "COOi9FET56lS",
        "outputId": "cc99ceff-95e1-4a18-edaa-c720c3fbacc9"
      },
      "execution_count": 26,
      "outputs": [
        {
          "output_type": "stream",
          "name": "stdout",
          "text": [
            "[{'home_team': 'Bolivia', 'away_team': 'Uruguay', 'home_team_score': 3, 'away_team_score': 1, 'home_team_result': 'Win'}, {'home_team': 'Brazil', 'away_team': 'Mexico', 'home_team_score': 1, 'away_team_score': 1, 'home_team_result': 'Draw'}, {'home_team': 'Ecuador', 'away_team': 'Venezuela', 'home_team_score': 5, 'away_team_score': 0, 'home_team_result': 'Win'}]\n",
            "3\n",
            "[{'home_team': 'Bolivia', 'away_team': 'Uruguay', 'home_team_score': 3, 'away_team_score': 1, 'home_team_result': 'Win'}, {'home_team': 'Ecuador', 'away_team': 'Venezuela', 'home_team_score': 5, 'away_team_score': 0, 'home_team_result': 'Win'}]\n",
            "2\n"
          ]
        }
      ]
    },
    {
      "cell_type": "code",
      "source": [
        "def filter_by_length(words):\n",
        "   # Escribe tu solución 👇\n",
        "   new = list(filter(lambda i : len(i) >= 4, words))\n",
        "   return new\n",
        "\n",
        "words = ['amor', 'sol', 'piedra', 'día']\n",
        "response = filter_by_length(words)\n",
        "print(response)"
      ],
      "metadata": {
        "colab": {
          "base_uri": "https://localhost:8080/"
        },
        "id": "7eU2lI2O7aFo",
        "outputId": "536faab5-cf88-4703-e8ff-d0d922e9abd4"
      },
      "execution_count": 28,
      "outputs": [
        {
          "output_type": "stream",
          "name": "stdout",
          "text": [
            "['amor', 'piedra']\n"
          ]
        }
      ]
    },
    {
      "cell_type": "code",
      "source": [
        "#Reduce\n",
        "import functools\n",
        "numb = [1,2,3,4]\n",
        "result = functools.reduce(lambda counter, item : counter + item, numb)\n",
        "print(result)"
      ],
      "metadata": {
        "colab": {
          "base_uri": "https://localhost:8080/"
        },
        "id": "104a3fBi8JdN",
        "outputId": "e5322f64-66eb-434d-9183-626be6fac243"
      },
      "execution_count": 29,
      "outputs": [
        {
          "output_type": "stream",
          "name": "stdout",
          "text": [
            "10\n"
          ]
        }
      ]
    }
  ]
}